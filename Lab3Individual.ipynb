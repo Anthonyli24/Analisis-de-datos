{
  "nbformat": 4,
  "nbformat_minor": 0,
  "metadata": {
    "colab": {
      "provenance": []
    },
    "kernelspec": {
      "name": "python3",
      "display_name": "Python 3"
    },
    "language_info": {
      "name": "python"
    }
  },
  "cells": [
    {
      "cell_type": "code",
      "execution_count": 4,
      "metadata": {
        "colab": {
          "base_uri": "https://localhost:8080/"
        },
        "id": "Z_70Eak_laA7",
        "outputId": "36c4a892-0f52-47bc-ac42-722e2c68d97a"
      },
      "outputs": [
        {
          "output_type": "stream",
          "name": "stdout",
          "text": [
            "       ID                     Country  Year  \\\n",
            "1       4                 Afghanistan  2018   \n",
            "2       4                 Afghanistan  2018   \n",
            "3       4                 Afghanistan  2018   \n",
            "26      8                     Albania  2018   \n",
            "27      8                     Albania  2018   \n",
            "...   ...                         ...   ...   \n",
            "3534  862  Venezuela (Boliv. Rep. of)  2018   \n",
            "3535  862  Venezuela (Boliv. Rep. of)  2018   \n",
            "3536  862  Venezuela (Boliv. Rep. of)  2018   \n",
            "3537  862  Venezuela (Boliv. Rep. of)  2018   \n",
            "3538  862  Venezuela (Boliv. Rep. of)  2018   \n",
            "\n",
            "                                                 Series  Value Footnotes  \\\n",
            "1                Intentional homicide rates per 100,000    6.7       NaN   \n",
            "2     Percentage of male and female intentional homi...   12.2       NaN   \n",
            "3     Percentage of male and female intentional homi...    0.8       NaN   \n",
            "26               Intentional homicide rates per 100,000    2.3       NaN   \n",
            "27    Percentage of male and female intentional homi...    3.5       NaN   \n",
            "...                                                 ...    ...       ...   \n",
            "3534             Intentional homicide rates per 100,000   36.7       NaN   \n",
            "3535  Percentage of male and female intentional homi...   61.9       NaN   \n",
            "3536  Percentage of male and female intentional homi...   10.7       NaN   \n",
            "3537                Assault rate per 100,000 population    6.5       NaN   \n",
            "3538  Kidnapping at the national level, rate per 100...    0.7       NaN   \n",
            "\n",
            "                                                 Source  \n",
            "1     United Nations Office on Drugs and Crime (UNOD...  \n",
            "2     United Nations Office on Drugs and Crime (UNOD...  \n",
            "3     United Nations Office on Drugs and Crime (UNOD...  \n",
            "26    United Nations Office on Drugs and Crime (UNOD...  \n",
            "27    United Nations Office on Drugs and Crime (UNOD...  \n",
            "...                                                 ...  \n",
            "3534  United Nations Office on Drugs and Crime (UNOD...  \n",
            "3535  United Nations Office on Drugs and Crime (UNOD...  \n",
            "3536  United Nations Office on Drugs and Crime (UNOD...  \n",
            "3537  United Nations Office on Drugs and Crime (UNOD...  \n",
            "3538  United Nations Office on Drugs and Crime (UNOD...  \n",
            "\n",
            "[462 rows x 7 columns]\n"
          ]
        }
      ],
      "source": [
        "import pandas as pd\n",
        "import matplotlib.pyplot as plt\n",
        "\n",
        "df=pd.read_csv('/content/CSVInvestigation.csv')\n",
        "data=pd.DataFrame(df)\n",
        "#print(data)\n",
        "\n",
        "data=data.astype({\"Value\":float})\n",
        "dataFilter2018=data.loc[(data['Year']==2018)]\n",
        "print(dataFilter2018)"
      ]
    },
    {
      "cell_type": "code",
      "source": [
        "#5 paises con mayor indice de criminalidad\n",
        "dataFiltered=data.loc[(data['Series']==\"Intentional homicide rates per 100,000\")]\n",
        "print(\"Los 5 países con mayor índice criminal son:\")\n",
        "print(dataFiltered.sort_values(by=['Value'],ascending=False)[['Country','Value','Year']].head(5))"
      ],
      "metadata": {
        "colab": {
          "base_uri": "https://localhost:8080/"
        },
        "id": "bfK4b7T1mqS8",
        "outputId": "a8f20387-5907-4cbb-bf9b-59778c91db40"
      },
      "execution_count": 7,
      "outputs": [
        {
          "output_type": "stream",
          "name": "stdout",
          "text": [
            "Los 5 países con mayor índice criminal son:\n",
            "                    Country  Value  Year\n",
            "1099            El Salvador  105.2  2015\n",
            "1448               Honduras   75.0  2010\n",
            "2813  Saint Kitts and Nevis   68.8  2011\n",
            "1091            El Salvador   64.5  2010\n",
            "1085            El Salvador   64.1  2005\n"
          ]
        }
      ]
    },
    {
      "cell_type": "code",
      "source": [
        "#5 paises con menor indice de criminalidad\n",
        "dataFiltered=data.loc[(data['Series']==\"Intentional homicide rates per 100,000\")]\n",
        "print(\"Los 5 países con menor índice criminal son:\")\n",
        "print(dataFiltered.sort_values(by=['Value'],ascending=True)[['Country','Value','Year']].head(5))"
      ],
      "metadata": {
        "colab": {
          "base_uri": "https://localhost:8080/"
        },
        "id": "eWh5irVcpVFP",
        "outputId": "566c6957-f821-4724-a588-f5f57dcd1ff5"
      },
      "execution_count": 9,
      "outputs": [
        {
          "output_type": "stream",
          "name": "stdout",
          "text": [
            "Los 5 países con menor índice criminal son:\n",
            "                        Country  Value  Year\n",
            "2196                 Montserrat    0.0  2004\n",
            "3350   Turks and Caicos Islands    0.0  2005\n",
            "2831  Saint Pierre and Miquelon    0.0  2006\n",
            "3355                     Tuvalu    0.0  2005\n",
            "2865                 San Marino    0.0  2005\n"
          ]
        }
      ]
    },
    {
      "cell_type": "code",
      "source": [
        "#El crimen mas repetido para el año 2028\n",
        "print(dataFilter2018['Series'].value_counts())"
      ],
      "metadata": {
        "colab": {
          "base_uri": "https://localhost:8080/"
        },
        "id": "OE98REIBpytw",
        "outputId": "564ceaa3-7693-4733-d82e-c52dd9e39bee"
      },
      "execution_count": 10,
      "outputs": [
        {
          "output_type": "stream",
          "name": "stdout",
          "text": [
            "Intentional homicide rates per 100,000                                91\n",
            "Assault rate per 100,000 population                                   82\n",
            "Theft at the national level, rate per 100,000 population              75\n",
            "Percentage of male and female intentional homicide victims, Male      74\n",
            "Percentage of male and female intentional homicide victims, Female    73\n",
            "Kidnapping at the national level, rate per 100,000                    67\n",
            "Name: Series, dtype: int64\n"
          ]
        }
      ]
    },
    {
      "cell_type": "code",
      "source": [
        "#Crimen con el porcentaje mas alto en CR en el año 2005\n",
        "dataFilteredCR=data.loc[(data['Country']=='Costa Rica') &(data['Year']==2005)]\n",
        "#print(dataFilteredCR)\n",
        "print(dataFilteredCR.sort_values(by=['Value'],ascending=True)[['Country','Series','Value']])"
      ],
      "metadata": {
        "colab": {
          "base_uri": "https://localhost:8080/"
        },
        "id": "l9H8bOofrjwn",
        "outputId": "defe04bc-1805-4e18-d69d-e2856f831c91"
      },
      "execution_count": 18,
      "outputs": [
        {
          "output_type": "stream",
          "name": "stdout",
          "text": [
            "        Country                                             Series  Value\n",
            "847  Costa Rica  Kidnapping at the national level, rate per 100...    0.3\n",
            "846  Costa Rica  Percentage of male and female intentional homi...    2.9\n",
            "844  Costa Rica             Intentional homicide rates per 100,000    7.8\n",
            "845  Costa Rica  Percentage of male and female intentional homi...   12.7\n",
            "848  Costa Rica  Theft at the national level, rate per 100,000 ...  195.1\n"
          ]
        }
      ]
    },
    {
      "cell_type": "code",
      "source": [
        "#Comparativo entre CR,Nicaragua y Panama por medio de la tasa\n",
        "\n",
        "registro=df.loc[(df['Country']=='Costa Rica')|(df['Country']=='Panama')|(df['Country']=='Nicaragua')]\n",
        "print(registro)"
      ],
      "metadata": {
        "colab": {
          "base_uri": "https://localhost:8080/"
        },
        "id": "bTG7gCzVs5Tj",
        "outputId": "215e1dcc-0b41-42ac-9474-f11efe8ca323"
      },
      "execution_count": 22,
      "outputs": [
        {
          "output_type": "stream",
          "name": "stdout",
          "text": [
            "       ID     Country  Year  \\\n",
            "844   188  Costa Rica  2005   \n",
            "845   188  Costa Rica  2005   \n",
            "846   188  Costa Rica  2005   \n",
            "847   188  Costa Rica  2005   \n",
            "848   188  Costa Rica  2005   \n",
            "...   ...         ...   ...   \n",
            "2488  591      Panama  2018   \n",
            "2489  591      Panama  2018   \n",
            "2490  591      Panama  2018   \n",
            "2491  591      Panama  2018   \n",
            "2492  591      Panama  2018   \n",
            "\n",
            "                                                 Series  Value Footnotes  \\\n",
            "844              Intentional homicide rates per 100,000    7.8       NaN   \n",
            "845   Percentage of male and female intentional homi...   12.7       NaN   \n",
            "846   Percentage of male and female intentional homi...    2.9       NaN   \n",
            "847   Kidnapping at the national level, rate per 100...    0.3       NaN   \n",
            "848   Theft at the national level, rate per 100,000 ...  195.1       NaN   \n",
            "...                                                 ...    ...       ...   \n",
            "2488  Percentage of male and female intentional homi...   17.0       NaN   \n",
            "2489  Percentage of male and female intentional homi...    1.8       NaN   \n",
            "2490                Assault rate per 100,000 population  102.1       NaN   \n",
            "2491  Kidnapping at the national level, rate per 100...    0.4       NaN   \n",
            "2492  Theft at the national level, rate per 100,000 ...  395.7       NaN   \n",
            "\n",
            "                                                 Source  \n",
            "844   United Nations Office on Drugs and Crime (UNOD...  \n",
            "845   United Nations Office on Drugs and Crime (UNOD...  \n",
            "846   United Nations Office on Drugs and Crime (UNOD...  \n",
            "847   United Nations Office on Drugs and Crime (UNOD...  \n",
            "848   United Nations Office on Drugs and Crime (UNOD...  \n",
            "...                                                 ...  \n",
            "2488  United Nations Office on Drugs and Crime (UNOD...  \n",
            "2489  United Nations Office on Drugs and Crime (UNOD...  \n",
            "2490  United Nations Office on Drugs and Crime (UNOD...  \n",
            "2491  United Nations Office on Drugs and Crime (UNOD...  \n",
            "2492  United Nations Office on Drugs and Crime (UNOD...  \n",
            "\n",
            "[73 rows x 7 columns]\n"
          ]
        }
      ]
    },
    {
      "cell_type": "code",
      "source": [
        "#Año mas conflictivo\n",
        "registro=df['Year']\n",
        "annio=registro.mode()\n",
        "print(annio)"
      ],
      "metadata": {
        "colab": {
          "base_uri": "https://localhost:8080/"
        },
        "id": "bTNw9ynGuGOY",
        "outputId": "4e580219-5225-4e46-e28b-0e8fd98d38d6"
      },
      "execution_count": 23,
      "outputs": [
        {
          "output_type": "stream",
          "name": "stdout",
          "text": [
            "0    2010\n",
            "Name: Year, dtype: int64\n"
          ]
        }
      ]
    },
    {
      "cell_type": "code",
      "source": [
        "#Genero mas afectado en crimenes en el año 2018\n",
        "dataFilteredByGender=dataFilter2018.loc[((dataFilter2018['Series']==\"Percentage of male and female intentional homicide victims, Male\")|(dataFilter2018['Series']==\"Percentage of male and female intentional homicide victims, Female\"))].groupby('Series')['Value']\n",
        "print(dataFilteredByGender.mean())"
      ],
      "metadata": {
        "colab": {
          "base_uri": "https://localhost:8080/"
        },
        "id": "7TvPmu61uurh",
        "outputId": "0a476178-f8e8-4658-976a-6efb39053e16"
      },
      "execution_count": 37,
      "outputs": [
        {
          "output_type": "stream",
          "name": "stdout",
          "text": [
            "Series\n",
            "Percentage of male and female intentional homicide victims, Female    1.697260\n",
            "Percentage of male and female intentional homicide victims, Male      8.908108\n",
            "Name: Value, dtype: float64\n"
          ]
        }
      ]
    }
  ]
}