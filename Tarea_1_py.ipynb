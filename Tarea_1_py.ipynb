{
  "nbformat": 4,
  "nbformat_minor": 0,
  "metadata": {
    "colab": {
      "provenance": []
    },
    "kernelspec": {
      "name": "python3",
      "display_name": "Python 3"
    },
    "language_info": {
      "name": "python"
    }
  },
  "cells": [
    {
      "cell_type": "code",
      "execution_count": null,
      "metadata": {
        "colab": {
          "base_uri": "https://localhost:8080/"
        },
        "id": "8Z1NBZ6j97iE",
        "outputId": "a225ca64-cbb4-486c-c044-eee226436559"
      },
      "outputs": [
        {
          "output_type": "stream",
          "name": "stdout",
          "text": [
            "Ejercicio Bisiesto\n",
            "Ingrese el año: 2024\n",
            "El año es bisiesto\n"
          ]
        }
      ],
      "source": [
        "print(\"Ejercicio del año bisiesto\")\n",
        "anio=int(input(\"Ingrese el año: \"))\n",
        "if(anio % 400 == 0) or (anio % 4 == 0) and (anio % 100 != 0): #Los dos puntos para indicar cuando termina la condición\n",
        "  print(\"El año es bisiesto\")\n",
        "else:\n",
        "  print(\"El año no es bisiesto\")"
      ]
    },
    {
      "cell_type": "code",
      "source": [
        "print(\"Ejercicio uso del Switch\")\n",
        "switcher={1:\"Enero\",2:\"Febrero\",3:\"Marzo\",4:\"Abril\",5:\"Mayo\",6:\"Junio\",7:\"Julio\",8:\"Agosto\",9:\"Septiembre\",10:\"Octubre\",11:\"Noviembre\",12:\"Diciembre\"}\n",
        "argument=int(input(\"Ingrese un número:\" ))\n",
        "nombreDeMes=switcher.get(argument,\"Mes Invalido\")#Lo que se encuentra despues de argument es lo que devuelve en caso de no encontrar el numero recibido en el switch\n",
        "print(nombreDeMes)"
      ],
      "metadata": {
        "colab": {
          "base_uri": "https://localhost:8080/"
        },
        "id": "j_u-SL0l_XLq",
        "outputId": "39ac437a-9bb0-4b80-c0ea-aa06d25fb479"
      },
      "execution_count": null,
      "outputs": [
        {
          "output_type": "stream",
          "name": "stdout",
          "text": [
            "Ejercicio uso del Switch\n",
            "Ingrese un número:12\n",
            "Diciembre\n"
          ]
        }
      ]
    },
    {
      "cell_type": "code",
      "source": [
        "print(\"Ejercicio de ciclos\")\n",
        "C=-1\n",
        "I=0\n",
        "M=0\n",
        "\n",
        "while(C<0) or (I<=0) or (I>=100) or (M<=0):\n",
        "  print(\"Introduce el capital,el interes y el tiempo apropiado\")\n",
        "  C=int(input(\"Capital: \"))\n",
        "  I=int(input(\"Interes: \"))\n",
        "  M=int(input(\"Tiempo en Años: \"))\n",
        "\n",
        "for i in range(M):\n",
        "  C=C*(1+I/100)\n",
        "  print(\"Año\",i+1,\"||\",\"Monto \",C, \"Colones\")"
      ],
      "metadata": {
        "id": "vNcKlTP7BRps",
        "colab": {
          "base_uri": "https://localhost:8080/"
        },
        "outputId": "94b2c227-365b-4f49-c063-561379975cfe"
      },
      "execution_count": null,
      "outputs": [
        {
          "output_type": "stream",
          "name": "stdout",
          "text": [
            "Ejercicio de ciclos\n",
            "Introduce el capital,el interes y el tiempo apropiado\n",
            "Capital: 1000\n",
            "Interes: 10\n",
            "Tiempo en Años: 20\n",
            "Año 1 || Monto  1100.0 Colones\n",
            "Año 2 || Monto  1210.0 Colones\n",
            "Año 3 || Monto  1331.0 Colones\n",
            "Año 4 || Monto  1464.1000000000001 Colones\n",
            "Año 5 || Monto  1610.5100000000002 Colones\n",
            "Año 6 || Monto  1771.5610000000004 Colones\n",
            "Año 7 || Monto  1948.7171000000005 Colones\n",
            "Año 8 || Monto  2143.5888100000006 Colones\n",
            "Año 9 || Monto  2357.9476910000008 Colones\n",
            "Año 10 || Monto  2593.742460100001 Colones\n",
            "Año 11 || Monto  2853.1167061100014 Colones\n",
            "Año 12 || Monto  3138.4283767210018 Colones\n",
            "Año 13 || Monto  3452.271214393102 Colones\n",
            "Año 14 || Monto  3797.4983358324125 Colones\n",
            "Año 15 || Monto  4177.248169415654 Colones\n",
            "Año 16 || Monto  4594.97298635722 Colones\n",
            "Año 17 || Monto  5054.470284992943 Colones\n",
            "Año 18 || Monto  5559.917313492238 Colones\n",
            "Año 19 || Monto  6115.909044841462 Colones\n",
            "Año 20 || Monto  6727.499949325608 Colones\n"
          ]
        }
      ]
    },
    {
      "cell_type": "code",
      "source": [
        "print(\"Ejercicio de Divisores\")\n",
        "print(\"Digite un numero\")\n",
        "numero=int(input(\"Numero: \"))\n",
        "\n",
        "while numero>0:\n",
        "  Suma=0\n",
        "  for i in range(1,numero+1):\n",
        "    if(numero % i == 0):\n",
        "      Suma=Suma+i\n",
        "  print(Suma)\n",
        "  numero=int(input(\"Numero:\"))\n",
        "\n",
        "  #1+2+5+10=18\n"
      ],
      "metadata": {
        "colab": {
          "base_uri": "https://localhost:8080/"
        },
        "id": "72PB7OSwURQe",
        "outputId": "a8c784e1-d5c2-4d1d-8c90-88a290bc7808"
      },
      "execution_count": null,
      "outputs": [
        {
          "name": "stdout",
          "output_type": "stream",
          "text": [
            "Ejercicio de Divisores\n",
            "Digite un numero\n",
            "Numero: 12\n",
            "28\n",
            "Numero:10\n",
            "18\n",
            "Numero:-1\n"
          ]
        }
      ]
    }
  ]
}